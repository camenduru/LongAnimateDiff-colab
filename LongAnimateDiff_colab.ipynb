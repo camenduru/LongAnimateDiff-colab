{
  "cells": [
    {
      "cell_type": "markdown",
      "metadata": {
        "id": "view-in-github"
      },
      "source": [
        "[![Open In Colab](https://colab.research.google.com/assets/colab-badge.svg)](https://colab.research.google.com/github/camenduru/LongAnimateDiff-colab/blob/main/LongAnimateDiff_colab.ipynb)"
      ]
    },
    {
      "cell_type": "code",
      "execution_count": null,
      "metadata": {
        "id": "VjYy0F2gZIPR"
      },
      "outputs": [],
      "source": [
        "%cd /content\n",
        "!git clone -b dev https://github.com/camenduru/LongAnimateDiff-hf\n",
        "%cd /content/LongAnimateDiff-hf\n",
        "\n",
        "!pip install -q omegaconf diffusers[torch]==0.11.1 einops accelerate gradio==3.50.2\n",
        "!pip install -q https://download.pytorch.org/whl/cu121/xformers-0.0.22.post7-cp310-cp310-manylinux2014_x86_64.whl\n",
        "\n",
        "!apt -y install -qq aria2\n",
        "!aria2c --console-log-level=error -c -x 16 -s 16 -k 1M https://huggingface.co/spaces/Lightricks/LongAnimateDiff/resolve/main/models/DreamBooth_LoRA/epiCRealismNaturalSin.safetensors -d /content/LongAnimateDiff-hf/models/DreamBooth_LoRA -o epiCRealismNaturalSin.safetensors\n",
        "!aria2c --console-log-level=error -c -x 16 -s 16 -k 1M https://huggingface.co/spaces/Lightricks/LongAnimateDiff/resolve/main/models/DreamBooth_LoRA/toonyou_beta3.safetensors -d /content/LongAnimateDiff-hf/models/DreamBooth_LoRA -o toonyou_beta3.safetensors\n",
        "!aria2c --console-log-level=error -c -x 16 -s 16 -k 1M https://huggingface.co/spaces/Lightricks/LongAnimateDiff/resolve/main/models/Motion_Module/lt_long_mm_16_64_frames.ckpt -d /content/LongAnimateDiff-hf/models/Motion_Module -o lt_long_mm_16_64_frames.ckpt\n",
        "!aria2c --console-log-level=error -c -x 16 -s 16 -k 1M https://huggingface.co/spaces/Lightricks/LongAnimateDiff/resolve/main/models/Motion_Module/lt_long_mm_32_frames.ckpt -d /content/LongAnimateDiff-hf/models/Motion_Module -o lt_long_mm_32_frames.ckpt\n",
        "!aria2c --console-log-level=error -c -x 16 -s 16 -k 1M https://huggingface.co/spaces/Lightricks/LongAnimateDiff/resolve/main/models/StableDiffusion/stable-diffusion-v1-5/safety_checker/pytorch_model.bin -d /content/LongAnimateDiff-hf/models/StableDiffusion/stable-diffusion-v1-5/safety_checker -o pytorch_model.bin\n",
        "!aria2c --console-log-level=error -c -x 16 -s 16 -k 1M https://huggingface.co/spaces/Lightricks/LongAnimateDiff/resolve/main/models/StableDiffusion/stable-diffusion-v1-5/text_encoder/pytorch_model.bin -d /content/LongAnimateDiff-hf/models/StableDiffusion/stable-diffusion-v1-5/text_encoder -o pytorch_model.bin\n",
        "!aria2c --console-log-level=error -c -x 16 -s 16 -k 1M https://huggingface.co/spaces/Lightricks/LongAnimateDiff/resolve/main/models/StableDiffusion/stable-diffusion-v1-5/unet/diffusion_pytorch_model.bin -d /content/LongAnimateDiff-hf/models/StableDiffusion/stable-diffusion-v1-5/unet -o diffusion_pytorch_model.bin\n",
        "!aria2c --console-log-level=error -c -x 16 -s 16 -k 1M https://huggingface.co/spaces/Lightricks/LongAnimateDiff/resolve/main/models/StableDiffusion/stable-diffusion-v1-5/vae/diffusion_pytorch_model.bin -d /content/LongAnimateDiff-hf/models/StableDiffusion/stable-diffusion-v1-5/vae -o diffusion_pytorch_model.bin\n",
        "\n",
        "!python app.py"
      ]
    }
  ],
  "metadata": {
    "accelerator": "GPU",
    "colab": {
      "gpuType": "T4",
      "provenance": []
    },
    "kernelspec": {
      "display_name": "Python 3",
      "name": "python3"
    },
    "language_info": {
      "name": "python"
    }
  },
  "nbformat": 4,
  "nbformat_minor": 0
}
